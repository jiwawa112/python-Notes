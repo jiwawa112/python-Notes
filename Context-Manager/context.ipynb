{
 "cells": [
  {
   "cell_type": "markdown",
   "metadata": {
    "collapsed": true
   },
   "source": [
    "## 上下文管理器（Context Manager）\n",
    "+ 上下文管理器是指在一段代码执行之前执行一段代码，用于一些预处理工作；执行之后再执行一段代码，用于一些清理工作。比如打开文件进行读写，读写完之后需要将文件关闭。又比如在数据库操作中，操作之前需要连接数据库，操作之后需要关闭数据库。在上下文管理协议中，有两个方法__enter__和__exit__，分别实现上述两个功能。\n",
    "### with语法\n",
    "+ 这就是一个标准的上下文管理器的使用逻辑，稍微解释一下其中的运行逻辑：\n",
    "+（1）执行EXPR语句，获取上下文管理器（Context Manager）\n",
    "+（2）调用上下文管理器中的__enter__方法，该方法执行一些预处理工作。\n",
    "+（3）这里的as VAR可以省略，如果不省略，则将__enter__方法的返回值赋值给VAR。\n",
    "+（4）执行代码块BLOCK，这里的VAR可以当做普通变量使用。\n",
    "+（5）最后调用上下文管理器中的的__exit__方法。\n",
    "+（6）__exit__方法有三个参数：exc_type, exc_val, exc_tb。如果代码块BLOCK发生异常并退出，那么分别对应异常的type、value 和 traceback。否则三个参数全为None。\n",
    "+（7）__exit__方法的返回值可以为True或者False。如果为True，那么表示异常被忽视，相当于进行了try-except操作；如果为False，则该异常会被重新raise。"
   ]
  },
  {
   "cell_type": "markdown",
   "metadata": {},
   "source": [
    "## with语法\n",
    "+ 讲到上下文管理器，就不得不说到python的with语法。基本语法格式为："
   ]
  },
  {
   "cell_type": "markdown",
   "metadata": {},
   "source": [
    "with EXPR as VAR:\n",
    "    BLOCK"
   ]
  },
  {
   "cell_type": "markdown",
   "metadata": {},
   "source": [
    "### 这里就是一个标准的上下文管理器的使用逻辑\n",
    "+ （1）执行EXPR语句，获取上下文管理器（Context Manager）\n",
    "+ （2）调用上下文管理器中的__enter__方法，该方法执行一些预处理工作。\n",
    "+ （3）这里的as VAR可以省略，如果不省略，则将__enter__方法的返回值赋值给VAR。\n",
    "+ （4）执行代码块BLOCK，这里的VAR可以当做普通变量使用。\n",
    "+ （5）最后调用上下文管理器中的的__exit__方法。\n",
    "+ （6）__exit__方法有三个参数：exc_type, exc_val, exc_tb。如果代码块BLOCK发生异常并退出，那么分别对应异常的type、value 和 traceback。否则三个参数全为None。\n",
    "+ （7）__exit__方法的返回值可以为True或者False。如果为True，那么表示异常被忽视，相当于进行了try-except操作；如果为False，则该异常会被重新raise。"
   ]
  },
  {
   "cell_type": "code",
   "execution_count": null,
   "metadata": {},
   "outputs": [],
   "source": []
  }
 ],
 "metadata": {
  "kernelspec": {
   "display_name": "Python 2",
   "language": "python",
   "name": "python2"
  },
  "language_info": {
   "codemirror_mode": {
    "name": "ipython",
    "version": 2
   },
   "file_extension": ".py",
   "mimetype": "text/x-python",
   "name": "python",
   "nbconvert_exporter": "python",
   "pygments_lexer": "ipython2",
   "version": "2.7.6"
  }
 },
 "nbformat": 4,
 "nbformat_minor": 0
}
