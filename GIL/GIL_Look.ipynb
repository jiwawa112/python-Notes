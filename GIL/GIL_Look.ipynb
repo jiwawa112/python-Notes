{
 "cells": [
  {
   "cell_type": "markdown",
   "metadata": {
    "collapsed": true
   },
   "source": [
    "## GIL\n",
    "+ 1.GIL的全称是Global Interpreter Lock(全局解释器锁)，来源是python设计之初的考虑，为了数据安全所做的决定。\n",
    "+ 2.GIL并不是Python的特性，它是在实现Python解析器(CPython)时所引入的一个概念。就好比C++是一套语言（语法）标准，但是可以用不同的编译器来编译成可执行代码。有名的编译器例如GCC，INTEL C++，Visual C++等。Python也一样，同样一段代码可以通过CPython，PyPy，Psyco等不同的Python执行环境来执行。像其中的JPython就没有GIL。然而因为CPython是大部分环境下默认的Python执行环境。所以在很多人的概念里CPython就是Python，也就想当然的把GIL归结为Python语言的缺陷。所以这里要先明确一点：GIL并不是Python的特性，Python完全可以不依赖于GIL。\n",
    "\n",
    "## 官方给出的解释：\n",
    "+ In CPython, the global interpreter lock, or GIL, is a mutex that prevents multiple native threads from executing Python bytecodes at once. This lock is necessary mainly because CPython’s memory management is not thread-safe. (However, since the GIL exists, other features have grown to depend on the guarantees that it enforces.) \n",
    "\n",
    "\n",
    "## 在Python多线程下，每个线程的执行方式：\n",
    "+ 1.获取GIL\n",
    "+ 2.执行代码直到sleep或者是python虚拟机将其挂起。\n",
    "+ 3.释放GIL\n",
    "\n",
    "+ GIL无疑是一把全局排他锁。全局锁的存在会对多线程的效率有不小影响。甚至就几乎等于Python是个单线程的程序\n",
    "+ 某个线程想要执行，必须先拿到GIL，我们可以把GIL看作是“通行证”，并且在一个python进程中，GIL只有一个。拿不到通行证的线程，就不允许进入CPU执行。\n",
    "+ 每个CPU在同一时间只能执行一个线程（在单核CPU下的多线程其实都只是并发，不是并行，并发和并行从宏观上来讲都是同时处理多路请求的概念。但并发和并行又有区别，并行是指两个或者多个事件在同一时刻发生；而并发是指两个或多个事件在同一时间间隔内发生。）\n",
    "\n",
    "## python多线程试用的任务\n",
    "1.CPU密集型代码(各种循环处理、计数等等)，在这种情况下，计数很快就会达到阈值，然后触发GIL的释放与再竞争（多个线程来回切换当然是需要消耗资源的）。python多线程对CPU密集型任务并不适用。\n",
    "2、IO密集型代码(文件处理、网络爬虫等)，多线程能够有效提升效率(单线程下有IO操作会进行IO等待，造成不必要的时间浪费，而开启多线程能在线程A等待时，自动切换到线程B，可以较充分的利用CPU资源，从而提升程序的执行效率)。python的多线程较适用于IO密集型任务。\n",
    "\n",
    "## 如何避免GIL影响\n",
    "+ 1.CPU密集型下的任务尽量采用多进程处理(multiprocessing).\n",
    "+ 2.不使用Cython解释器，换成其他语言写的编译器，如jpython就没有这个限制。但是会放弃很多Cython的特性。\n"
   ]
  },
  {
   "cell_type": "code",
   "execution_count": null,
   "metadata": {},
   "outputs": [],
   "source": []
  }
 ],
 "metadata": {
  "kernelspec": {
   "display_name": "Python 2",
   "language": "python",
   "name": "python2"
  },
  "language_info": {
   "codemirror_mode": {
    "name": "ipython",
    "version": 2
   },
   "file_extension": ".py",
   "mimetype": "text/x-python",
   "name": "python",
   "nbconvert_exporter": "python",
   "pygments_lexer": "ipython2",
   "version": "2.7.6"
  }
 },
 "nbformat": 4,
 "nbformat_minor": 0
}
