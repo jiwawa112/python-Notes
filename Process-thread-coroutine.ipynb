{
 "cells": [
  {
   "cell_type": "code",
   "execution_count": null,
   "metadata": {
    "collapsed": true
   },
   "outputs": [],
   "source": [
    "## 进程、线程、协程对比\n",
    "+ 有一个老板想要开个工厂进行某件商品的生产\n",
    "+ 他需要花一些财力物力制作一条生产线，这个生产线上有很多的器件以及材料这些所有为了能够生产商品而准备的资源:进程\n",
    "+ 只有生产线是不能够进行生产的，所有老板找来工人进行生产，这个工人能利用这些材料最终一步步的将商品做出来，这个来做事情的工人称为：线程\n",
    "+ 为了提高生产效率，想了三种办法\n",
    "+ 1.在这条生产线上多招些工人，一起来做商品，这样效率是成倍增长的，即单进程、多线程\n",
    "+ 2.老板发现这条生产线上的工人不是越多越好，因为一条生产线的资源以及材料毕竟有限，所有老板又花了些财力物力购置了另外一条生产线，然后再招些工人这样效率又进一步提高了，即多进程、多线程\n",
    "+ 3.老板发现，现在已经有了很多条生产线，并且每条生产线上已经有很多工人了（程序是多进程，每个进程中又有多个线程）。为了再次提高效率，规定，如果某个员工在上班时临时没有事做或等待某些条件，那么这个工人就利用这个时间去做其他事情。就是说，一个线程等待某些条件，可以充分利用这个时间去做其它事情，这就是协程"
   ]
  },
  {
   "cell_type": "markdown",
   "metadata": {},
   "source": [
    "## 简单总结\n",
    "+ 1.进程事资源分配的基本单位\n",
    "+ 2.线程事操作系统调用的基本单位\n",
    "+ 3.进程切换需要的资源很大、效率很低\n",
    "+ 4.线程切换需要的资源一般，效率一般（不考虑GIL的情况下）\n",
    "+ 5.协程切换任务资源很小、效率搞\n",
    "+ 6.多进程、多线程根据CPU核数不一样可能是并行的，但是协程是在一个线程中，所有事并发"
   ]
  },
  {
   "cell_type": "code",
   "execution_count": null,
   "metadata": {},
   "outputs": [],
   "source": []
  }
 ],
 "metadata": {
  "kernelspec": {
   "display_name": "Python 2",
   "language": "python",
   "name": "python2"
  },
  "language_info": {
   "codemirror_mode": {
    "name": "ipython",
    "version": 2
   },
   "file_extension": ".py",
   "mimetype": "text/x-python",
   "name": "python",
   "nbconvert_exporter": "python",
   "pygments_lexer": "ipython2",
   "version": "2.7.6"
  }
 },
 "nbformat": 4,
 "nbformat_minor": 0
}
