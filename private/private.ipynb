{
 "cells": [
  {
   "cell_type": "markdown",
   "metadata": {
    "collapsed": true
   },
   "source": [
    "### 私有化\n",
    "+ xx: 公有变量\n",
    "+ _x: 单前置下划线,私有化属性或方法，from somemodule import *禁止导入,类对象和子类可以访问\n",
    "+ __xx：双前置下划线,避免与子类中的属性命名冲突，无法在外部直接访问(名字重整所以访问不到)\n",
    "+ xx:双前后下划线,用户名字空间的魔法对象或属性。例如:init, __ 不要自己发明这样的名字\n",
    "+ xx_:单后置下划线,用于避免与Python关键词的冲突"
   ]
  },
  {
   "cell_type": "code",
   "execution_count": null,
   "metadata": {},
   "outputs": [],
   "source": []
  }
 ],
 "metadata": {
  "kernelspec": {
   "display_name": "Python 3",
   "language": "python",
   "name": "python3"
  },
  "language_info": {
   "codemirror_mode": {
    "name": "ipython",
    "version": 3
   },
   "file_extension": ".py",
   "mimetype": "text/x-python",
   "name": "python",
   "nbconvert_exporter": "python",
   "pygments_lexer": "ipython3",
   "version": "3.7.0"
  }
 },
 "nbformat": 4,
 "nbformat_minor": 1
}
