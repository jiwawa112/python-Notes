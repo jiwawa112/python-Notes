{
 "cells": [
  {
   "cell_type": "markdown",
   "metadata": {},
   "source": [
    "## property"
   ]
  },
  {
   "cell_type": "code",
   "execution_count": 1,
   "metadata": {},
   "outputs": [
    {
     "name": "stdout",
     "output_type": "stream",
     "text": [
      "Help on class property in module builtins:\n",
      "\n",
      "class property(object)\n",
      " |  property(fget=None, fset=None, fdel=None, doc=None)\n",
      " |  \n",
      " |  Property attribute.\n",
      " |  \n",
      " |    fget\n",
      " |      function to be used for getting an attribute value\n",
      " |    fset\n",
      " |      function to be used for setting an attribute value\n",
      " |    fdel\n",
      " |      function to be used for del'ing an attribute\n",
      " |    doc\n",
      " |      docstring\n",
      " |  \n",
      " |  Typical use is to define a managed attribute x:\n",
      " |  \n",
      " |  class C(object):\n",
      " |      def getx(self): return self._x\n",
      " |      def setx(self, value): self._x = value\n",
      " |      def delx(self): del self._x\n",
      " |      x = property(getx, setx, delx, \"I'm the 'x' property.\")\n",
      " |  \n",
      " |  Decorators make defining new properties or modifying existing ones easy:\n",
      " |  \n",
      " |  class C(object):\n",
      " |      @property\n",
      " |      def x(self):\n",
      " |          \"I am the 'x' property.\"\n",
      " |          return self._x\n",
      " |      @x.setter\n",
      " |      def x(self, value):\n",
      " |          self._x = value\n",
      " |      @x.deleter\n",
      " |      def x(self):\n",
      " |          del self._x\n",
      " |  \n",
      " |  Methods defined here:\n",
      " |  \n",
      " |  __delete__(self, instance, /)\n",
      " |      Delete an attribute of instance.\n",
      " |  \n",
      " |  __get__(self, instance, owner, /)\n",
      " |      Return an attribute of instance, which is of type owner.\n",
      " |  \n",
      " |  __getattribute__(self, name, /)\n",
      " |      Return getattr(self, name).\n",
      " |  \n",
      " |  __init__(self, /, *args, **kwargs)\n",
      " |      Initialize self.  See help(type(self)) for accurate signature.\n",
      " |  \n",
      " |  __set__(self, instance, value, /)\n",
      " |      Set an attribute of instance to value.\n",
      " |  \n",
      " |  deleter(...)\n",
      " |      Descriptor to change the deleter on a property.\n",
      " |  \n",
      " |  getter(...)\n",
      " |      Descriptor to change the getter on a property.\n",
      " |  \n",
      " |  setter(...)\n",
      " |      Descriptor to change the setter on a property.\n",
      " |  \n",
      " |  ----------------------------------------------------------------------\n",
      " |  Static methods defined here:\n",
      " |  \n",
      " |  __new__(*args, **kwargs) from builtins.type\n",
      " |      Create and return a new object.  See help(type) for accurate signature.\n",
      " |  \n",
      " |  ----------------------------------------------------------------------\n",
      " |  Data descriptors defined here:\n",
      " |  \n",
      " |  __isabstractmethod__\n",
      " |  \n",
      " |  fdel\n",
      " |  \n",
      " |  fget\n",
      " |  \n",
      " |  fset\n",
      "\n"
     ]
    }
   ],
   "source": [
    "help(property)"
   ]
  },
  {
   "cell_type": "markdown",
   "metadata": {},
   "source": [
    "## property方法中有四个参数\n",
    "+ 第一个参数时方法名，调用 对象.属性时自动触发执行方法\n",
    "+ 第二个参数时方法名, 调用 对象.属性 = XXX自动触发执行方法 \n",
    "+ 第三个参数时方法名, 调用del 对象.属性时自动触发执行方法\n",
    "+ 第四个参数时方法名, 调用 对象.属性.__doc__,此参数是该属性的描述信息"
   ]
  },
  {
   "cell_type": "code",
   "execution_count": 2,
   "metadata": {},
   "outputs": [
    {
     "name": "stdout",
     "output_type": "stream",
     "text": [
      "laowang\n"
     ]
    }
   ],
   "source": [
    "class Foo:\n",
    "    def get_bar(self):\n",
    "        return \"laowang\"\n",
    "    \n",
    "    BAR = property(get_bar)\n",
    "    \n",
    "obj = Foo()\n",
    "reslut = obj.BAR    #自动调用get_bar方法,并获取方法的返回值\n",
    "print(reslut)"
   ]
  },
  {
   "cell_type": "markdown",
   "metadata": {},
   "source": [
    "### 描述符descriptor\n",
    "+ Python当中取对象属性存在多种不同的机制，property属于descriptor机制。Python描述符是一种创建托管属性的方法。每当一个属性被查询时，一个动作就会发生。这个动作默认是get，set或者delete。不过，有时候某个应用可能会有更多的需求，需要你设计一些更复杂的动作。最好的解决方案就是编写一个执行符合需求的动作的函数，然后指定它在属性被访问时运行。一个具有这种功能的对象称为描述符。描述符是python方法，绑定方法，super，property，staticmethod和classmethod的实现基础。\n",
    "\n",
    "#### 1.描述符协议\n",
    "+ 描述符descriptor就是一个表示属性值的对象，通过实现一个或多个__get__,__set__,__delete__方法，可以将描述符与属性访问机制挂钩，还可以自定义这些操作。\n",
    "+ __get__(self,instance,own):用于访问属性,返回属性的值。instance为使用描述符的实例对象，own为实例所属的类。当通过类访问属性时，instance为None。\n",
    "+ __set__(self,instance,value)：设定属性值。\n",
    "+ __delete__(self,instance):删除属性值。\n",
    "\n",
    "#### 2.大致流程\n",
    "+ 1.当从obj（类型为MyClass）获取名称为attr的属性（也就是obj.attr）时：如果有MyClass.__getattribute__定义则使用这个过程替代整个过程，不再进行后面的步骤首先判断obj.__dict__中是否存在名为attr的属性，如果存在直接返回；否则进入第二步。\n",
    "+ 2.某些情况下obj没有__dict__则直接进入第二步。从obj的类型（MyClass）中获取attr属性：如果MyClass.__dict__中存在则直接返回否则按MyClass.__mro__依次查找基类的__dict__直到存在；如果全都不存在，进入第三步\n",
    "+ 调用obj.__getattr__过程（默认抛出AttributeError异常）获取到的属性值：如果有__get__方法，则返回__get__方法调用的结果（这个就叫做descriptor！）如果没有则直接返回值\n"
   ]
  },
  {
   "cell_type": "code",
   "execution_count": null,
   "metadata": {},
   "outputs": [],
   "source": []
  }
 ],
 "metadata": {
  "kernelspec": {
   "display_name": "Python 3",
   "language": "python",
   "name": "python3"
  },
  "language_info": {
   "codemirror_mode": {
    "name": "ipython",
    "version": 3
   },
   "file_extension": ".py",
   "mimetype": "text/x-python",
   "name": "python",
   "nbconvert_exporter": "python",
   "pygments_lexer": "ipython3",
   "version": "3.7.0"
  }
 },
 "nbformat": 4,
 "nbformat_minor": 2
}
