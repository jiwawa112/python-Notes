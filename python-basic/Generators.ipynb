{
 "cells": [
  {
   "cell_type": "markdown",
   "metadata": {
    "collapsed": true
   },
   "source": [
    "## 生成器\n",
    "+ 生成器最佳应用场景是：你不想同一时间将所有计算出来的大量结果集分配到内存当中，特别是结果集里还包含循环。"
   ]
  },
  {
   "cell_type": "markdown",
   "metadata": {},
   "source": [
    "## python通过两种不同的方式提供生成器\n",
    "+ 1.生成器函数： 常规函数定义，但是，使用yield语句而不是return返回结果。yield语句一次返回一个结果，在每个结果中间，挂起函数状态，以便下次从它离开的地方继续执行。\n",
    "+ 2.生成器表达式：类似于列表推导式（使用（））"
   ]
  },
  {
   "cell_type": "markdown",
   "metadata": {},
   "source": [
    "## python通过两种不同的方式提供生成器\n",
    "+ 1.生成器函数： 常规函数定义，但是，使用yield语句而不是return返回结果。yield语句一次返回一个结果，在每个结果中间，挂起函数状态，以便下次从它离开的地方继续执行。\n",
    "+ 2.生成器表达式：类似于列表推导式（使用（））"
   ]
  },
  {
   "cell_type": "markdown",
   "metadata": {},
   "source": []
  },
  {
   "cell_type": "code",
   "execution_count": null,
   "metadata": {},
   "outputs": [],
   "source": []
  }
 ],
 "metadata": {
  "kernelspec": {
   "display_name": "Python 2",
   "language": "python",
   "name": "python2"
  },
  "language_info": {
   "codemirror_mode": {
    "name": "ipython",
    "version": 2
   },
   "file_extension": ".py",
   "mimetype": "text/x-python",
   "name": "python",
   "nbconvert_exporter": "python",
   "pygments_lexer": "ipython2",
   "version": "2.7.6"
  }
 },
 "nbformat": 4,
 "nbformat_minor": 0
}
