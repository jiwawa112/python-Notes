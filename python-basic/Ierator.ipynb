{
 "cells": [
  {
   "cell_type": "markdown",
   "metadata": {
    "collapsed": true
   },
   "source": [
    "## 直接概念\n",
    "+ 可迭代对象(Iterable)： 可以直接作用于for循环的对象；\n",
    "+ 迭代器(Iterator): 可以被next()函数调用并不断返回下一个值的对象。\n",
    "+ 所有的Iterable均可通过内置函数iter()来转变为Iterator。"
   ]
  },
  {
   "cell_type": "markdown",
   "metadata": {},
   "source": [
    "## 迭代器\n",
    "## 关于迭代器需要注意以下几点：\n",
    "+ 1.迭代器不可重复利用，迭代完就变成空了，再次调用会引发StopIteration异常；可通过copy包中的deepcopy复制迭代器从而可循环使用。\n",
    "+ 2.迭代器是访问集合内元素的一种方式。迭代器对象从集合的第一个元素开始访问，直到所有的元素都被访问一遍后结束；\n",
    "+ 3.迭代器不能回退，只能往前进行迭代；\n",
    "+ 4.对于原生支持随机访问的数据结构（如tuple、list），迭代器和经典for循环的索引访问相比并无优势，反而丢失了索引值（可以使用内建函数enumerate()找回这个索引值）。但对于无法随机访问的数据结构（比如set）而言，迭代器是唯一的访问元素的方式；enumerate()能在iter函数的结果前加上索引，以元组返回:\n",
    "+ 5.迭代器的另一个优点就是它不要求你事先准备好整个迭代过程中所有的元素。迭代器仅仅在迭代至某个元素时才计算该元素，而在这之前或之后，元素可以不存在或者被销毁。这个特点使得它特别适合用于遍历一些巨大的或是无限的集合，比如几个G的文件，或是斐波那契数列等等。这个特点被称为延迟计算或惰性求值(Lazy evaluation)；\n",
    "+ 6.迭代器更大的功劳是提供了一个统一的访问集合的接口。只要是实现了iter()方法的对象，就可以使用迭代器进行访问。\n",
    "+ 7.迭代器存储的是生成数据的方式(存储的并不是具体的元素值),占用内存空间极小"
   ]
  },
  {
   "cell_type": "markdown",
   "metadata": {},
   "source": [
    "## 迭代器协议\n",
    "+ 1.迭代器协议是指：对象需要提供next()方法，它要么返回迭代中的下一项，要么引起一个Stoplteration异常，以终止迭代\n",
    "+ 2.可迭代对象：实现了迭代器协议的对象\n",
    "+ 3.协议是一种约定，可迭代对象实现迭代器协议，python内置工具（如for循环,sum,min,max函数等）使用迭代器协议访问对象"
   ]
  },
  {
   "cell_type": "markdown",
   "metadata": {},
   "source": []
  },
  {
   "cell_type": "markdown",
   "metadata": {},
   "source": []
  }
 ],
 "metadata": {
  "kernelspec": {
   "display_name": "Python 2",
   "language": "python",
   "name": "python2"
  },
  "language_info": {
   "codemirror_mode": {
    "name": "ipython",
    "version": 2
   },
   "file_extension": ".py",
   "mimetype": "text/x-python",
   "name": "python",
   "nbconvert_exporter": "python",
   "pygments_lexer": "ipython2",
   "version": "2.7.6"
  }
 },
 "nbformat": 4,
 "nbformat_minor": 0
}
