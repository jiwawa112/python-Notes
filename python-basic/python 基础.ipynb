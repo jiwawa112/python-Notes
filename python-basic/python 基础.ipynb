{
 "cells": [
  {
   "cell_type": "markdown",
   "metadata": {},
   "source": [
    "#### ASCII大小规则 \n",
    "+ 1)数字0~9比字母要小。如\"7\"<\"F\"; \n",
    "+ 2)数字0比数字9要小，并按0到9顺序递增。如\"3\"<\"8\" \n",
    "+ 3)字母A比字母Z要小，并按A到Z顺序递增。如\"A\"<\"Z\" \n",
    "+ 4)同个字母的大写字母比小写字母要小。如\"A\"<\"a\"。 \n",
    "\n",
    "#### 关于python中的复数： \n",
    "+ 1.表示复数的语法是real + image j \n",
    "+ 2.实部和虚部都是浮点数 \n",
    "+ 3.虚部的后缀可以是 “j” 或者 “J” \n",
    "+ 4.复数的 conjugate 方法可以返回该复数的共轭复数。 \n",
    "\n",
    "#### 浅拷贝、深拷贝\n",
    "![title](img/浅拷贝、深拷贝.png)\n",
    "\n",
    "#### 一个模块中有__name__\n",
    "+ 1. 直接运行 __name__为 __main__\n",
    "+ 2. 调用该模块,__name__为被调用模块的 模块名<br><br>\n",
    "\n",
    "+ 字符串编译的过程：gbk==>unicode==>utf16==>url解码 \n",
    "+ 字符串解码顺序为：url解码==>utf16==>unicode==>gbk \n",
    "\n",
    "#### python中主要存在四种命名方式： \n",
    "+ 1、object #公用方法 \n",
    "+ 2、_object #半保护 \n",
    "                 #被看作是“protect”，意思是只有类对象和子类对象自己能访问到这些变量， \n",
    "                  在模块或类外不可以使用，不能用’from module import *’导入。 \n",
    "                #__object 是为了避免与子类的方法名称冲突， 对于该标识符描述的方法，父 \n",
    "                  类的方法不能轻易地被子类的方法覆盖，他们的名字实际上是 \n",
    "                  _classname__methodname。 \n",
    "+ 3、_ _ object  #全私有，全保护 \n",
    "                       #私有成员“private”，意思是只有类对象自己能访问，连子类对象也不能访 \n",
    "                          问到这个数据，不能用’from module import *’导入。 \n",
    "+ 4、_ _ object_ _     #内建方法，用户不要这样定义\n",
    "\n",
    "#### python socket操作\n",
    "+ sk.recv(bufsize[,flag]):接受套接字的数据。数据以字符串形式返回，bufsize指定最多可以接收的数量。flag提供有关消息的其他信息，通常可以忽略。 \n",
    "+ sk.recvfrom(bufsize[.flag]):与recv()类似，但返回值是（data,address）。其中data是包含接收数据的字符串，address是发送数据的套接字地址。 \n",
    "+ sk.getsockname():返回套接字自己的地址。通常是一个元组(ipaddr,port) \n",
    "+ sk.connect(address):连接到address处的套接字。一般，address的格式为元组（hostname,port）,如果连接出错，返回socket.error错误。 \n",
    "+ sk.listen(backlog):开始监听传入连接。backlog指定在拒绝连接之前，可以挂起的最大连接数量。 \n",
    "\n",
    "#### python my.py v1 v2 命令运行脚本，通过 from sys import argv如何获得v2的参数值? \n",
    "+ sys.argv是命令参数表，包括文件名\n",
    "+ argv[0]: 【path】/my.py\n",
    "+ argv[1]: v1\n",
    "+ argv[2]: v2\n",
    "\n",
    "#### __new__和__init__的区别\n",
    "+ __init__是当实例对象创建完成后被调用的，然后设置对象属性的一些初始值。 \n",
    "+ __new__是在实例创建之前被调用的，因为它的任务就是创建实例然后返回该实例，是个静态方法。 \n",
    "+ 即，__new__在__init__之前被调用，__new__的返回值（实例）将传递给__init__方法的第一个参数，然后__init__给这个实例设置一些参数。"
   ]
  },
  {
   "cell_type": "code",
   "execution_count": null,
   "metadata": {},
   "outputs": [],
   "source": [
    "如下程序的运行结果为:\n",
    "def func(s, i, j):\n",
    "    if i < j:\n",
    "        func(s, i + 1, j - 1)\n",
    "        s[i],s[j] = s[j], s[i]\n",
    "def main():\n",
    "    a = [10, 6, 23, -90, 0, 3]\n",
    "    func(a, 0, len(a)-1)\n",
    "    for i in range(6):\n",
    "    print a[i]\n",
    "    print \"\\n\"\n",
    "    main()"
   ]
  },
  {
   "cell_type": "markdown",
   "metadata": {},
   "source": [
    "+ 1.首先，调用main() 函数内，已经定义了一个列表 a ,传入到func函数内，第一次传入的参数中  i,j 分别代表列表的首位、末尾值。即 i = 0 ,j = 5  此时满足  i<j ,则此时调用 满足的条件 ，又调用func ，此时传入的参数为 a、1，4 。这时需要执行函数，而不能往下执行，即暂不可执行第一次的 交换元素 s[0],s[5] = s[5],s[0]. \n",
    "+ 2. 执行内部函数 func(a,1,4)  则也满足 1<4  此时还需要再调用 func(a,2,3) .暂不执行 s[1],s[4]] =  s[4],s[1].  \n",
    "+ 3. 再执行内部函数 func(a,2,3) ,还是满足2<3  此时还需要再调用 func(a,3,2) .暂不执行 s[2],s[3]] =  s[3],s[2].  \n",
    "+ 4. 再执行内部函数func(a,3,2),此时不满足 3<2 . 即不执行任何内容。此时内部循环函数全部结束。再往上推。 \n",
    "+ 5. 上一步内部函数执行完后，则执行交换s[2],s[3]] =  s[3],s[2]. 再往上推 \n",
    "+ 6. s[1],s[4]] =  s[4],s[1]，再往上推 \n",
    "+ 7. s[0],s[5] = s[5],s[0] 。即全部func结果结束。即交换了各个位置的元素。第一个变成最后一个、第二个变成倒数第二个、第三个变成倒数第三个。原来 的 a = [10,6,23,-90,0,3] 交换后的 a = [3,0,-90,23,6,10]  \n",
    "+ 8. for循环依次打印出a列表元素 ，每次打出一个都进行换行操作。"
   ]
  }
 ],
 "metadata": {
  "kernelspec": {
   "display_name": "Python 3",
   "language": "python",
   "name": "python3"
  },
  "language_info": {
   "codemirror_mode": {
    "name": "ipython",
    "version": 3
   },
   "file_extension": ".py",
   "mimetype": "text/x-python",
   "name": "python",
   "nbconvert_exporter": "python",
   "pygments_lexer": "ipython3",
   "version": "3.7.0"
  },
  "toc": {
   "base_numbering": 1,
   "nav_menu": {},
   "number_sections": true,
   "sideBar": true,
   "skip_h1_title": false,
   "title_cell": "Table of Contents",
   "title_sidebar": "Contents",
   "toc_cell": false,
   "toc_position": {},
   "toc_section_display": true,
   "toc_window_display": false
  }
 },
 "nbformat": 4,
 "nbformat_minor": 2
}
