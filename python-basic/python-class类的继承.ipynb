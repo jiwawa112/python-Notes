{
 "cells": [
  {
   "cell_type": "markdown",
   "metadata": {},
   "source": [
    "### python-class类的继承\n",
    "+ 面向对象的编程带来的主要好处之一是代码的重用，实现各种重用的方法之一是通过继承机制。继承完全可以理解成类之间的父类和子类型关系。\n",
    "+ 继承概念：继承是类与类的一种关系，是一种子类与父类的关系，即爸爸与儿子。\n",
    "+ 如猫类，猫是动物；猫类继承于动物类，动物类为父类也是所有动物的基类；猫类是动物类的子类，也是动物类的派生类。\n",
    "+ Python有单继承与多继承。单继承即子类继承于一个类，多继承即子类继承于多个类，多继承会比较少遇到，本章节主要讲单继承。\n",
    "+ 什么时候使用继承：假如我需要定义几个类，而类与类之间有一些公共的属性和方法，这时我就可以把相同的属性和方法作为基类的成员，而特殊的方法及属性则在本类中定义。这样子类只需要继承基类（父类），子类就可以访问到基类（父类）的属性和方法了，它提高了代码的可扩展性和重用行。\n",
    "+ 如：猫，狗 都属于动物，它们行为相似性高，都会叫，会吃，会喝，会拉，会撒娇。"
   ]
  },
  {
   "cell_type": "markdown",
   "metadata": {},
   "source": [
    "### 一、Python类的继承\n",
    "+ 如下定义一个动物类Animal为基类，它基本两个实例属性name和age、一个方法call。"
   ]
  },
  {
   "cell_type": "code",
   "execution_count": 4,
   "metadata": {},
   "outputs": [
    {
     "name": "stdout",
     "output_type": "stream",
     "text": [
      "喵喵 会叫\n"
     ]
    }
   ],
   "source": [
    "class Animal(object):  #  python3中所有类都可以继承于object基类\n",
    "   def __init__(self, name, age):\n",
    "       self.name = name\n",
    "       self.age = age\n",
    "\n",
    "   def call(self):\n",
    "       print(self.name, '会叫')\n",
    "# 现在我们需要定义一个Cat猫类继承于Animal，猫类比动物类多一个sex属性。\n",
    "class Cat(Animal):\n",
    "   def __init__(self,name,age,sex):\n",
    "       super(Cat, self).__init__(name,age)  # 不要忘记从Animal类引入属性\n",
    "       self.sex=sex\n",
    "\n",
    "if __name__ == '__main__':  # 单模块被引用时下面代码不会受影响，用于调试\n",
    "   c = Cat('喵喵', 2, '男')  #  Cat继承了父类Animal的属性\n",
    "c.call()  # 输出 喵喵 会叫 ，Cat继承了父类Animal的方法 "
   ]
  },
  {
   "cell_type": "markdown",
   "metadata": {},
   "source": [
    "+ 注意：一定要用 super(Cat, self).__init__(name,age) 去初始化父类，否则，继承自 Animal的 Cat子类将没有 name和age两个属性。\n",
    "+ 函数super(Cat, self)将返回当前类继承的父类，即 Animal，然后调用__init__()方法，注意self参数已在super()中传入，在__init__()中将隐式传递，不能再写出self。"
   ]
  },
  {
   "cell_type": "markdown",
   "metadata": {},
   "source": [
    "### 二、Python对子类方法的重构\n",
    "+ 上面例子中Animal的子类Cat继承了父类的属性和方法，但是我们猫类Cat有自己的叫声 ’喵喵’ ，这时我们可以对父类的Call()方法进行重构。如下："
   ]
  },
  {
   "cell_type": "code",
   "execution_count": 5,
   "metadata": {},
   "outputs": [
    {
     "name": "stdout",
     "output_type": "stream",
     "text": [
      "喵喵 会“喵喵”叫\n"
     ]
    }
   ],
   "source": [
    "class Cat(Animal):\n",
    "   def __init__(self, name, age, sex):\n",
    "       super(Cat, self).__init__(name,age)\n",
    "       self.sex = sex\n",
    "\n",
    "   def call(self):\n",
    "       print(self.name,'会“喵喵”叫')\n",
    "\n",
    "if __name__ == '__main__':\n",
    "   c = Cat('喵喵', 2, '男')\n",
    "   c.call()  # 输出：喵喵 会“喵喵”叫"
   ]
  },
  {
   "cell_type": "markdown",
   "metadata": {},
   "source": [
    "+ 当我们在子类中重构父类的方法后，Cat子类的实例先会在自己的类Cat中查找该方法，当找不到该方法时才会去父类Animal中查找对应的方法。"
   ]
  },
  {
   "cell_type": "markdown",
   "metadata": {},
   "source": [
    "### 三、Python中子类与父类的关系"
   ]
  },
  {
   "cell_type": "code",
   "execution_count": 7,
   "metadata": {},
   "outputs": [],
   "source": [
    "class Animal(object):\n",
    "   pass\n",
    "\n",
    "class Cat(Animal):\n",
    "   pass\n",
    "\n",
    "A= Animal()\n",
    "C = Cat()\n"
   ]
  },
  {
   "cell_type": "markdown",
   "metadata": {},
   "source": [
    "+ 子类与父类的关系是 “is” 的关系，如上Cat继承于Animal类，我们可以说：\n",
    "+ “A”是Animal类的实例，但，“A”不是Cat类的实例。\n",
    "+ “C”是Animal类的实例，“C”也是Cat类的实例。\n",
    "+ 判断对象之间的关系，我们可以通过 isinstance(变量,类型) 来进行判断："
   ]
  },
  {
   "cell_type": "code",
   "execution_count": 8,
   "metadata": {},
   "outputs": [
    {
     "name": "stdout",
     "output_type": "stream",
     "text": [
      "\"A\" IS Animal? True\n",
      "\"A\" IS Cat? False\n",
      "\"C\" IS Animal? True\n",
      "\"C\" IS Cat? True\n"
     ]
    }
   ],
   "source": [
    "print('\"A\" IS Animal?', isinstance(A, Animal))\n",
    "print('\"A\" IS Cat?', isinstance(A, Cat))\n",
    "print('\"C\" IS Animal?', isinstance(C, Animal))\n",
    "print('\"C\" IS Cat?', isinstance(C, Cat))"
   ]
  },
  {
   "cell_type": "markdown",
   "metadata": {},
   "source": [
    "### 四、python中多态\n",
    "+ 类具有继承关系，并且子类类型可以向上转型看做父类类型，如果我们从 Animal派生出 Cat和Dog，并都写了一个 call() 方法"
   ]
  },
  {
   "cell_type": "code",
   "execution_count": 13,
   "metadata": {},
   "outputs": [],
   "source": [
    "class Animal(object):  \n",
    "   def __init__(self, name, age):\n",
    "       self.name = name\n",
    "       self.age = age\n",
    "   def call(self):\n",
    "       print(self.name, '会叫')\n",
    "\n",
    "class Cat(Animal):\n",
    "   def __init__(self, name, age, sex):\n",
    "       super(Cat, self).__init__(name, age)\n",
    "       self.sex = sex\n",
    "\n",
    "   def call(self):\n",
    "       print(self.name, '会“喵喵”叫')\n",
    "\n",
    "class Dog(Animal):\n",
    "   def __init__(self, name, age, sex):\n",
    "       super(Dog, self).__init__(name, age)\n",
    "       self.sex = sex\n",
    "   def call(self):\n",
    "       print(self.name, '会“汪汪”叫')"
   ]
  },
  {
   "cell_type": "code",
   "execution_count": 15,
   "metadata": {},
   "outputs": [
    {
     "name": "stdout",
     "output_type": "stream",
     "text": [
      "小黑 会叫\n",
      "喵喵 会“喵喵”叫\n",
      "旺财 会“汪汪”叫\n"
     ]
    }
   ],
   "source": [
    "A = Animal('小黑',4)\n",
    "C = Cat('喵喵', 2, '男')\n",
    "D = Dog('旺财', 5, '女')\n",
    "A.call()\n",
    "C.call()\n",
    "D.call()\n"
   ]
  },
  {
   "cell_type": "markdown",
   "metadata": {},
   "source": [
    "+ 这种行为称为多态。也就是说，方法调用将作用在 all 的实际类型上。C 是 Cat 类型，它实际上拥有自己的 call() 方法以及从 Animal 继承的 call 方法，但调用 C .call() 总是先查找它自身的定义，如果没有定义，则顺着继承链向上查找，直到在某个父类中找到为止。\n",
    "+ 传递给函数 do(all) 的参数 all 不一定是 Animal 或 Animal 的子类型。任何数据类型的实例都可以，只要它有一个 call() 的方法即可。其他类不继承于 Animal，具备 call 方法也可以使用 do 函数。这就是动态语言，动态语言调用实例方法，不检查类型，只要方法存在，参数正确，就可以调用。"
   ]
  },
  {
   "cell_type": "markdown",
   "metadata": {},
   "source": [
    "### Python类继承 注意事项：\n",
    "+ 1.在继承中基类的构造方法（__init__()方法）不会被自动调用，它需要在其派生类的构造方法中亲自专门调用。\n",
    "+ 2.在调用基类的方法时，需要加上基类的类名前缀，且需要带上self参数变量。而在类中调用普通函数时并不需要带上self参数\n",
    "+ 3.Python总是首先查找对应类的方法，如果它不能在派生类中找到对应的方法，它才开始到基类中逐个查找。（先在本类中查找调用的方法，找不到才去基类中找）"
   ]
  },
  {
   "cell_type": "code",
   "execution_count": null,
   "metadata": {},
   "outputs": [],
   "source": []
  }
 ],
 "metadata": {
  "kernelspec": {
   "display_name": "Python 3",
   "language": "python",
   "name": "python3"
  },
  "language_info": {
   "codemirror_mode": {
    "name": "ipython",
    "version": 3
   },
   "file_extension": ".py",
   "mimetype": "text/x-python",
   "name": "python",
   "nbconvert_exporter": "python",
   "pygments_lexer": "ipython3",
   "version": "3.7.0"
  }
 },
 "nbformat": 4,
 "nbformat_minor": 2
}
