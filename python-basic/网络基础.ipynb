{
 "cells": [
  {
   "cell_type": "markdown",
   "metadata": {},
   "source": [
    "#### ATM信元\n",
    "+ ATM信元是固定长度的分组，共有53个字节，分为2部分，前面5个字节为信头，主要完成寻址的功能，后面48个字节为信息段，用来装载来自不同用户，不同业务的信息。语音，数据，图像等所有的数字信息都要经过切割，封装成同一格式的信元在网中传递，并在接收端恢复成所需的格式。 (53-5=48, 8的整数倍)\n",
    "\n",
    "#### 停止等待协议（stop-and-wait）是最简单但也是最基础的数据链路层协议。很多有关协议的基本概念都可以从这个协议中学习到。 \n",
    "+ 停止等待就是每发送完一个分组就停止发送，等待对方的确认。在收到确认后再发送下一个分组。 \n",
    "+ 特点：最简单的设计，发送一帧，确认一帧。 \n",
    "\n",
    "#### 回退n帧的ARQ-也叫做GBN \n",
    "+ 发信侧不用等待收信侧的应答，持续的发送多个帧，假如发现已发送的帧中有错误发生，那么从那个发生错误的帧开始及其之后所有的帧全部再重新发送。 \n",
    "+ 特点：（GBN）复杂度低，但是不必要的帧会再重发，所以大幅度范围内使用的话效率是不高的 \n",
    "\n",
    "#### 选择性重传ARQ \n",
    "+ 发信侧不用等待收信侧的应答，持续的发送多个帧，假如发现已发送的帧中有错误发生，那么发信侧将只重新发送那个发生错误的帧。 \n",
    "+ 特点：相对于GDN 复杂度高，但是不需要发送没必要的帧，所以效率高。 <br><br>\n",
    "\n",
    "+ 所以信道利用率最高的是 选择性重传ARQ > 回退n帧的GBN > 停止等待协议（stop-and-wait）\n",
    "\n",
    "#### 常用的信道复用技术\n",
    "+ 时分复用(Time Division Multiplexing, TDM) \n",
    "+ 波分复用(Wavelength Division Multiplexing, WDM) \n",
    "+ 频分复用(Frequency Division Multiplexing, FDM) \n",
    "+ 码分复用(Code Division Multiplexing, CDM)\n",
    "\n",
    "#### DHCP客户机申请IP地址租约\n",
    "+ 1.DHCP 客户机在本地子网中先发送 DHCP discover 信息，此信息以广播的形式发送，因为客户机现在不知道DHCP服务器的IP地址。 \n",
    "+ 2.在 DHCP 服务器收到DHCP客户机广播的 DHCP discover 信息后，它向DHCP客户机发送 DHCP offer 信息，其中包括一个可租用的 IP 地址 \n",
    "+ 3.如果没有 DHCP 服务器对客户机的请求作出反应，可能发生以下两种情况： §如果客户使用的是 Windows 2000 操作系统且自动设置IP地址的功能处于激活状态，那么客户机自动给自己分配一个 IP 地址。 如果使用其它的操作系统或自动设置 IP 地址的功能被禁止，则客户机无法获得 IP 地址，初始化失败。但客户机在后台每隔 5 分钟发送四次 DHCP discover 信息直到它收到 DHCP offer 信息。 \n",
    "+ 4.一旦客户机收到 DHCP offer 信息，它发送 DHCP request 信息到服务器表示它将使用服务器所提供的 IP 地址 \n",
    "+ 5.DHCP 服务器在收到 DHCP request 信息后，即发送 DHCP positive 确认信息，以确定此租约成立，且此信息中还包含其它 DHCP 选项信息。 \n",
    "+ 6.客户机收到确认信息后，利用其中的信息配制它的 TCP/IP 属性并加入到网络中。 \n",
    "+ 如图所示是 DHCP 客户机从 DHCP 服务器获得租约的过程 \n",
    "+ 7.当客户机请求的是一个无效的或重复的 IP 地址，则 DHCP 服务器在第五步发送 DHCP negative 确认信息，客户机收到 DHCP negative 确认信息初始化失败。 "
   ]
  }
 ],
 "metadata": {
  "kernelspec": {
   "display_name": "Python 3",
   "language": "python",
   "name": "python3"
  },
  "language_info": {
   "codemirror_mode": {
    "name": "ipython",
    "version": 3
   },
   "file_extension": ".py",
   "mimetype": "text/x-python",
   "name": "python",
   "nbconvert_exporter": "python",
   "pygments_lexer": "ipython3",
   "version": "3.7.0"
  },
  "toc": {
   "base_numbering": 1,
   "nav_menu": {},
   "number_sections": true,
   "sideBar": true,
   "skip_h1_title": false,
   "title_cell": "Table of Contents",
   "title_sidebar": "Contents",
   "toc_cell": false,
   "toc_position": {},
   "toc_section_display": true,
   "toc_window_display": false
  }
 },
 "nbformat": 4,
 "nbformat_minor": 2
}
