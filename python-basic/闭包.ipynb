{
 "cells": [
  {
   "cell_type": "markdown",
   "metadata": {},
   "source": [
    "### 闭包\n",
    "+ python中的闭包从表现形式上定义（解释）为：如果在一个内部函数里，对在外部作用域（但不是在全局作用域）的变量进行引用，那么内部函数就被认为是闭包(closure)"
   ]
  },
  {
   "cell_type": "code",
   "execution_count": 7,
   "metadata": {},
   "outputs": [
    {
     "name": "stdout",
     "output_type": "stream",
     "text": [
      "18\n",
      "<class 'function'>\n",
      "adder\n"
     ]
    }
   ],
   "source": [
    "def addx(x): \n",
    "    def adder(y): return x + y \n",
    "        \n",
    "    return adder \n",
    "\n",
    "c = addx(8) \n",
    "\n",
    "print(c(10))\n",
    "print(type(c)) \n",
    "print(c.__name__) \n",
    " \n"
   ]
  },
  {
   "cell_type": "markdown",
   "metadata": {},
   "source": [
    "+ 结合这段简单的代码和定义来说明闭包：\n",
    "+ 如果在一个内部函数里：adder(y)就是这个内部函数，\n",
    "+ 对在外部作用域（但不是在全局作用域）的变量进行引用：x就是被引用的变量，x在外部作用域addx里面，但不在全局作用域里，则这个内部函数adder就是一个闭包。\n",
    "+ 闭包=函数块+定义函数时的环境，adder就是函数块，x就是环境，当然这个环境可以有很多，不止一个简单的x。"
   ]
  },
  {
   "cell_type": "markdown",
   "metadata": {},
   "source": [
    "### 函数、匿名函数、闭包、对象当作实参时，有什么区别？\n",
    "+ 1.匿名函数能够完成基本的简单功能...传递的是这个函数的引用，只有功能\n",
    "+ 2.普通函数能够完成较为复杂的功能...传递的是这个函数的引用，只有功能\n",
    "+ 3.闭包能够完成将较为复杂的功能...传递的是这个闭包种的函数以及数据，数据+功能\n",
    "+ 4.对象能够完成最为复杂的功能更...传递的是很多数据+很多功能，数据+功能"
   ]
  }
 ],
 "metadata": {
  "kernelspec": {
   "display_name": "Python 3",
   "language": "python",
   "name": "python3"
  },
  "language_info": {
   "codemirror_mode": {
    "name": "ipython",
    "version": 3
   },
   "file_extension": ".py",
   "mimetype": "text/x-python",
   "name": "python",
   "nbconvert_exporter": "python",
   "pygments_lexer": "ipython3",
   "version": "3.7.0"
  },
  "toc": {
   "base_numbering": 1,
   "nav_menu": {},
   "number_sections": true,
   "sideBar": true,
   "skip_h1_title": false,
   "title_cell": "Table of Contents",
   "title_sidebar": "Contents",
   "toc_cell": false,
   "toc_position": {},
   "toc_section_display": true,
   "toc_window_display": false
  }
 },
 "nbformat": 4,
 "nbformat_minor": 2
}
