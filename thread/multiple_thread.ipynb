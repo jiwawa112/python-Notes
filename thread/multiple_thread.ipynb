{
 "cells": [
  {
   "cell_type": "markdown",
   "metadata": {
    "collapsed": true
   },
   "source": [
    "## 线程模块\n",
    "+ Python通过两个标准库thread和threading提供对线程的支持。thread提供了低级别的、原始的线程以及一个简单的锁。\n",
    "\n",
    "## threading 模块提供的其他方法： \n",
    "+ threading.currentThread(): 返回当前的线程变量。 \n",
    "+ threading.enumerate(): 返回一个包含正在运行的线程的list。正在运行指线程启动后、结束前，不包括启动前和终止后的线程。 \n",
    "+ threading.activeCount(): 返回正在运行的线程数量，与len(threading.enumerate())有相同的结果。\n",
    "\n",
    "## 除了使用方法外，线程模块同样提供了Thread类来处理线程，Thread类提供了以下方法:\n",
    "+ run(): 用以表示线程活动的方法。\n",
    "+ start():启动线程活动。\n",
    "+ join([time]): 等待至线程中止。这阻塞调用线程直至线程的join() 方法被调用中止-正常退出或者抛出未处理的异常-或者是可选的超时发生。\n",
    "+ isAlive(): 返回线程是否活动的。\n",
    "+ getName(): 返回线程名。\n",
    "+ setName(): 设置线程名。"
   ]
  },
  {
   "cell_type": "markdown",
   "metadata": {},
   "source": [
    "## 线程优先级队列（ Queue） \n",
    "+ Python的Queue模块中提供了同步的、线程安全的队列类，包括FIFO（先入先出)队列Queue，LIFO（后入先出）队列LifoQueue，和优先级队列PriorityQueue。这些队列都实现了锁原语，能够在多线程中直接使用。可以使用队列来实现线程间的同步。\n",
    "\n",
    "## Queue模块中的常用方法:\n",
    "+ Queue.qsize() 返回队列的大小 \n",
    "+ Queue.empty() 如果队列为空，返回True,反之False \n",
    "+ Queue.full() 如果队列满了，返回True,反之False\n",
    "+ Queue.full 与 maxsize 大小对应 \n",
    "+ Queue.get([block[, timeout]])获取队列，timeout等待时间 \n",
    "+ Queue.get_nowait() 相当Queue.get(False)\n",
    "+ Queue.put(item) 写入队列，timeout等待时间 \n",
    "+ Queue.put_nowait(item) 相当Queue.put(item, False)\n",
    "+ Queue.task_done() 在完成一项工作之后，Queue.task_done()函数向任务已经完成的队列发送一个信号\n",
    "+ Queue.join() 实际上意味着等到队列为空，再执行别的操作"
   ]
  },
  {
   "cell_type": "code",
   "execution_count": null,
   "metadata": {},
   "outputs": [],
   "source": []
  }
 ],
 "metadata": {
  "kernelspec": {
   "display_name": "Python 2",
   "language": "python",
   "name": "python2"
  },
  "language_info": {
   "codemirror_mode": {
    "name": "ipython",
    "version": 2
   },
   "file_extension": ".py",
   "mimetype": "text/x-python",
   "name": "python",
   "nbconvert_exporter": "python",
   "pygments_lexer": "ipython2",
   "version": "2.7.6"
  }
 },
 "nbformat": 4,
 "nbformat_minor": 0
}
